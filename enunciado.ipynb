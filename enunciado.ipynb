{
 "cells": [
  {
   "cell_type": "code",
   "execution_count": null,
   "metadata": {},
   "outputs": [],
   "source": [
    "%load_ext autoreload\n",
    "%autoreload 2\n",
    "%matplotlib inline\n",
    "\n",
    "import matplotlib.pyplot as plt\n",
    "import pandas as pd\n",
    "import jax.random as random\n",
    "import numpyro\n",
    "\n",
    "import tarea"
   ]
  },
  {
   "cell_type": "markdown",
   "metadata": {},
   "source": [
    "# ¿Es posible explicar la cantidad de billonarios en base al desarrollo país?  <a class=\"tocSkip\"></a>\n",
    "\n",
    "\n",
    "\n",
    "\n",
    "\n"
   ]
  },
  {
   "cell_type": "markdown",
   "metadata": {},
   "source": [
    "En 2006 *Daniel Treisman* publicó un artículo titulado [*Russia Billionaries*](https://pubs.aeaweb.org/doi/pdfplus/10.1257/aer.p20161068) en el cual conectó la cantidad de billonarios de un país con ciertos atributos económicos de los mismos. \n",
    "\n",
    "Su conclusión principal fue que Rusia tiene una cantidad de billonarios mayor que la que predicen los indicadores económicos\n",
    "\n",
    "En esta tarea ustedes analizarán datos macroeconómicos para comprobar o refutar los hallazgos de *D. Treisman*"
   ]
  },
  {
   "cell_type": "markdown",
   "metadata": {},
   "source": [
    "## Datos\n",
    "\n",
    "Para esta tarea se les provee de un conjunto de datos `billonarios.csv` indexado por país con los siguientes atributos\n",
    "\n",
    "- `nbillonarios`: La cantidad de billonarios del pais\n",
    "- `logpibpc`: El logaritmo del Producto Interno Bruto (PIB) per capita del pais\n",
    "- `logpob`: El logaritmo de la población del pais\n",
    "- `gatt`: La cantidad de años que el pais está adherido al *General Agreement on Tariffs and Trade* (GATT)"
   ]
  },
  {
   "cell_type": "code",
   "execution_count": null,
   "metadata": {},
   "outputs": [],
   "source": [
    "df = pd.read_csv('data/billonarios.csv', index_col='pais')\n",
    "display(df.head(5))\n",
    "y = df[\"nbillonarios\"].values\n",
    "x  = df.drop(\"nbillonarios\", axis=1).values\n",
    "display(y.shape, x.shape)"
   ]
  },
  {
   "cell_type": "markdown",
   "metadata": {},
   "source": [
    "## Modelo \n",
    "\n",
    "El objetivo principal de esta tarea es entrenar un modelo de regresión que prediga la cantidad de billonarios en función de los demás atributos\n",
    "\n",
    "> El número de billonarios es una variable entera y no-negativa. \n",
    "\n",
    "Un modelo apropiado en este caso es la [regresión de Poisson](https://en.wikipedia.org/wiki/Poisson_distribution), donde definimos la probabilidad condicional para un pais $i$ como  \n",
    "\n",
    "$$\n",
    "p(y_i | x_i ) = \\frac{\\lambda_i^{y_i}}{y_i!} \\exp \\left ({-\\lambda_i} \\right)\n",
    "$$\n",
    "\n",
    "con intensidad\n",
    "\n",
    "$$\n",
    "\\lambda_i = \\exp \\left (\\theta_0 + \\sum_{j=1}^M \\theta_j x_{ij} \\right)\n",
    "$$\n",
    "\n",
    "donde \n",
    "\n",
    "- $\\theta$ es el vector de parámetros que deseamos ajustar \n",
    "- $y_i$ y $x_i$ son la cantidad de billonarios y el vector de atributos del país $i$, respectivamente\n"
   ]
  },
  {
   "cell_type": "markdown",
   "metadata": {},
   "source": [
    "## Actividades\n",
    "\n",
    "- Implemente el modelo usando numpyro (función `model` en `tarea.py`)\n",
    "    - Considere un prior normal para los parámetros $\\theta$\n",
    "    - Considere una verosimilitud poisson\n",
    "- Obtenga muestras del posterior utilizando MCMC\n",
    "    - Muestre las trazas de los parámetros (utilize `matplotlib`)\n",
    "    - Diagnóstique la convergencia en base a las trazas, número de muestras efectivo y el estadístico de Gelman-Rubin\n",
    "- Análisis los resultados obtenidos\n",
    "    - Muestre el posterior de los parámetros obtenidos (utilize `matplotlib`), ¿Cúales son significativamente distintos de cero?\n",
    "    - Prediga la cantidad de billonarios y la incertidumbre asociada de cada pais usando su modelo (posterior predictivo. \n",
    "    - Responda y discuta ¿Cuáles son los 5 países con mayor error entre la predicción y el valor real? ¿Cuáles países tienen un exceso de billonarios? ¿Cúales paises tienen menos billonarios de lo esperado? ¿Qué puede decir sobre Rusia? ¿Cuáles son los 5 paises donde el modelo está más inseguro de sus resultados?"
   ]
  },
  {
   "cell_type": "code",
   "execution_count": null,
   "metadata": {},
   "outputs": [],
   "source": [
    "seeded_model = numpyro.handlers.seed(tarea.model, random.PRNGKey(12345))\n",
    "exec_trace = numpyro.handlers.trace(seeded_model).get_trace(x, y)\n",
    "print(numpyro.util.format_shapes(exec_trace))"
   ]
  },
  {
   "cell_type": "code",
   "execution_count": null,
   "metadata": {},
   "outputs": [],
   "source": []
  }
 ],
 "metadata": {
  "interpreter": {
   "hash": "50456680fccf1c41085e05954d172de063da31b4663dbf91e3dc42a7c568c15e"
  },
  "kernelspec": {
   "display_name": "Python 3.9.7 64-bit ('info320': conda)",
   "name": "python3"
  },
  "language_info": {
   "codemirror_mode": {
    "name": "ipython",
    "version": 3
   },
   "file_extension": ".py",
   "mimetype": "text/x-python",
   "name": "python",
   "nbconvert_exporter": "python",
   "pygments_lexer": "ipython3",
   "version": "3.9.7"
  },
  "toc": {
   "base_numbering": 1,
   "nav_menu": {},
   "number_sections": true,
   "sideBar": true,
   "skip_h1_title": false,
   "title_cell": "Table of Contents",
   "title_sidebar": "Contents",
   "toc_cell": false,
   "toc_position": {},
   "toc_section_display": true,
   "toc_window_display": false
  }
 },
 "nbformat": 4,
 "nbformat_minor": 4
}
