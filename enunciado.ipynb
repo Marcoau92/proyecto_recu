{
 "cells": [
  {
   "cell_type": "code",
   "execution_count": 267,
   "metadata": {
    "scrolled": false
   },
   "outputs": [
    {
     "name": "stdout",
     "output_type": "stream",
     "text": [
      "The autoreload extension is already loaded. To reload it, use:\n",
      "  %reload_ext autoreload\n"
     ]
    }
   ],
   "source": [
    "%load_ext autoreload\n",
    "%autoreload 2\n",
    "%matplotlib inline\n",
    "\n",
    "from functools import partial\n",
    "import matplotlib.pyplot as plt\n",
    "import pandas as pd\n",
    "import jax.random as random\n",
    "import numpyro\n",
    "import numpyro.distributions as dist\n",
    "import jax.numpy as jnp\n",
    "import numpy as np\n",
    "\n",
    "import tarea\n",
    "\n",
    "rng_key = random.PRNGKey(12345)"
   ]
  },
  {
   "cell_type": "markdown",
   "metadata": {},
   "source": [
    "# ¿Es posible explicar la cantidad de billonarios en base al desarrollo país?  <a class=\"tocSkip\"></a>\n",
    "\n",
    "\n",
    "\n",
    "\n",
    "\n"
   ]
  },
  {
   "cell_type": "markdown",
   "metadata": {},
   "source": [
    "En 2006 *Daniel Treisman* publicó un artículo titulado [*Russia Billionaries*](https://pubs.aeaweb.org/doi/pdfplus/10.1257/aer.p20161068) en el cual conectó la cantidad de billonarios de un país con ciertos atributos económicos de los mismos. \n",
    "\n",
    "Su conclusión principal fue que Rusia tiene una cantidad de billonarios mayor que la que predicen los indicadores económicos\n",
    "\n",
    "En esta tarea ustedes analizarán datos macroeconómicos para comprobar o refutar los hallazgos de *D. Treisman*"
   ]
  },
  {
   "cell_type": "markdown",
   "metadata": {},
   "source": [
    "## Datos\n",
    "\n",
    "Para esta tarea se les provee de un conjunto de datos `billonarios.csv` indexado por país con los siguientes atributos\n",
    "\n",
    "- `nbillonarios`: La cantidad de billonarios del pais\n",
    "- `logpibpc`: El logaritmo del Producto Interno Bruto (PIB) per capita del pais\n",
    "- `logpob`: El logaritmo de la población del pais\n",
    "- `gatt`: La cantidad de años que el pais está adherido al *General Agreement on Tariffs and Trade* (GATT)"
   ]
  },
  {
   "cell_type": "code",
   "execution_count": 357,
   "metadata": {},
   "outputs": [
    {
     "data": {
      "text/html": [
       "<div>\n",
       "<style scoped>\n",
       "    .dataframe tbody tr th:only-of-type {\n",
       "        vertical-align: middle;\n",
       "    }\n",
       "\n",
       "    .dataframe tbody tr th {\n",
       "        vertical-align: top;\n",
       "    }\n",
       "\n",
       "    .dataframe thead th {\n",
       "        text-align: right;\n",
       "    }\n",
       "</style>\n",
       "<table border=\"1\" class=\"dataframe\">\n",
       "  <thead>\n",
       "    <tr style=\"text-align: right;\">\n",
       "      <th></th>\n",
       "      <th>nbillonarios</th>\n",
       "      <th>logpibpc</th>\n",
       "      <th>logpob</th>\n",
       "      <th>gatt</th>\n",
       "    </tr>\n",
       "    <tr>\n",
       "      <th>pais</th>\n",
       "      <th></th>\n",
       "      <th></th>\n",
       "      <th></th>\n",
       "      <th></th>\n",
       "    </tr>\n",
       "  </thead>\n",
       "  <tbody>\n",
       "    <tr>\n",
       "      <th>United States</th>\n",
       "      <td>469</td>\n",
       "      <td>10.786021</td>\n",
       "      <td>19.532846</td>\n",
       "      <td>60</td>\n",
       "    </tr>\n",
       "    <tr>\n",
       "      <th>Canada</th>\n",
       "      <td>25</td>\n",
       "      <td>10.743365</td>\n",
       "      <td>17.319439</td>\n",
       "      <td>0</td>\n",
       "    </tr>\n",
       "    <tr>\n",
       "      <th>Bahamas, The</th>\n",
       "      <td>0</td>\n",
       "      <td>10.072139</td>\n",
       "      <td>12.760934</td>\n",
       "      <td>0</td>\n",
       "    </tr>\n",
       "    <tr>\n",
       "      <th>Aruba</th>\n",
       "      <td>0</td>\n",
       "      <td>10.223734</td>\n",
       "      <td>11.526276</td>\n",
       "      <td>0</td>\n",
       "    </tr>\n",
       "    <tr>\n",
       "      <th>Bermuda</th>\n",
       "      <td>0</td>\n",
       "      <td>11.446847</td>\n",
       "      <td>11.086334</td>\n",
       "      <td>0</td>\n",
       "    </tr>\n",
       "  </tbody>\n",
       "</table>\n",
       "</div>"
      ],
      "text/plain": [
       "               nbillonarios   logpibpc     logpob  gatt\n",
       "pais                                                   \n",
       "United States           469  10.786021  19.532846    60\n",
       "Canada                   25  10.743365  17.319439     0\n",
       "Bahamas, The              0  10.072139  12.760934     0\n",
       "Aruba                     0  10.223734  11.526276     0\n",
       "Bermuda                   0  11.446847  11.086334     0"
      ]
     },
     "metadata": {},
     "output_type": "display_data"
    },
    {
     "data": {
      "text/plain": [
       "(197,)"
      ]
     },
     "metadata": {},
     "output_type": "display_data"
    },
    {
     "data": {
      "text/plain": [
       "(197, 3)"
      ]
     },
     "metadata": {},
     "output_type": "display_data"
    }
   ],
   "source": [
    "df = pd.read_csv('data/billonarios.csv', index_col='pais')\n",
    "display(df.head(5))\n",
    "yb = df[\"nbillonarios\"].values\n",
    "xb  = df.drop(\"nbillonarios\", axis=1).values\n",
    "display(yb.shape, xb.shape)"
   ]
  },
  {
   "cell_type": "markdown",
   "metadata": {},
   "source": [
    "## Modelo \n",
    "\n",
    "El objetivo principal de esta tarea es entrenar un modelo de regresión que prediga la cantidad de billonarios en función de los demás atributos\n",
    "\n",
    "> El número de billonarios es una variable entera y no-negativa. \n",
    "\n",
    "Un modelo apropiado en este caso es la [regresión de Poisson](https://en.wikipedia.org/wiki/Poisson_distribution), donde definimos la probabilidad condicional para un pais $i$ como  \n",
    "\n",
    "$$\n",
    "p(y_i | x_i ) = \\frac{\\lambda_i^{y_i}}{y_i!} \\exp \\left ({-\\lambda_i} \\right)\n",
    "$$\n",
    "\n",
    "con intensidad\n",
    "\n",
    "$$\n",
    "\\lambda_i = \\exp \\left (\\theta_0 + \\sum_{j=1}^M \\theta_j x_{ij} \\right)\n",
    "$$\n",
    "\n",
    "donde \n",
    "\n",
    "- $\\theta$ es el vector de parámetros que deseamos ajustar \n",
    "- $y_i$ y $x_i$ son la cantidad de billonarios y el vector de atributos del país $i$, respectivamente\n"
   ]
  },
  {
   "cell_type": "markdown",
   "metadata": {},
   "source": [
    "## Actividades\n",
    "\n",
    "- Implemente el modelo usando numpyro (función `model` en `tarea.py`)\n",
    "    - Considere un prior normal para los parámetros $\\theta$\n",
    "    - Considere una verosimilitud poisson\n",
    "- Obtenga muestras del posterior utilizando MCMC\n",
    "    - Muestre las trazas de los parámetros (utilize `matplotlib`)\n",
    "    - Diagnóstique la convergencia en base a las trazas, número de muestras efectivo y el estadístico de Gelman-Rubin\n",
    "- Análisis los resultados obtenidos\n",
    "    - Muestre el posterior de los parámetros obtenidos (utilize `matplotlib`), ¿Cúales son significativamente distintos de cero?\n",
    "    - Prediga la cantidad de billonarios y la incertidumbre asociada de cada pais usando su modelo (posterior predictivo. \n",
    "    - Responda y discuta ¿Cuáles son los 5 países con mayor error entre la predicción y el valor real? ¿Cuáles países tienen un exceso de billonarios? ¿Cúales paises tienen menos billonarios de lo esperado? ¿Qué puede decir sobre Rusia? ¿Cuáles son los 5 paises donde el modelo está más inseguro de sus resultados?"
   ]
  },
  {
   "cell_type": "code",
   "execution_count": 338,
   "metadata": {
    "scrolled": true
   },
   "outputs": [
    {
     "name": "stdout",
     "output_type": "stream",
     "text": [
      "(197,)\n",
      "(197,)\n",
      "(3,)\n",
      "Trace Shapes:      \n",
      " Param Sites:      \n",
      "Sample Sites:      \n",
      "  theta0 dist   3 |\n",
      "        value     |\n",
      "  theta1 dist   3 |\n",
      "        value     |\n",
      "  theta2 dist   3 |\n",
      "        value     |\n",
      "  theta3 dist   3 |\n",
      "        value     |\n",
      "  datos plate 197 |\n"
     ]
    }
   ],
   "source": [
    "seeded_model = numpyro.handlers.seed(tarea.model, random.PRNGKey(12345))\n",
    "exec_trace = numpyro.handlers.trace(seeded_model).get_trace(x, y)\n",
    "print(numpyro.util.format_shapes(exec_trace))"
   ]
  },
  {
   "cell_type": "code",
   "execution_count": 391,
   "metadata": {
    "scrolled": false
   },
   "outputs": [
    {
     "name": "stderr",
     "output_type": "stream",
     "text": [
      "/home/marco/anaconda3/envs/info274/lib/python3.10/site-packages/numpyro/infer/mcmc.py:274: UserWarning: There are not enough devices to run parallel chains: expected 2 but got 1. Chains will be drawn sequentially. If you are running MCMC in CPU, consider using `numpyro.set_host_device_count(2)` at the beginning of your program. You can double-check how many devices are available in your system using `jax.local_device_count()`.\n",
      "  warnings.warn(\n",
      "sample: 100%|█████████████████████████| 1100/1100 [00:05<00:00, 205.99it/s, 1023 steps of size 2.68e-09. acc. prob=0.71]\n",
      "sample: 100%|█████████████████████████| 1100/1100 [00:01<00:00, 658.63it/s, 1023 steps of size 6.31e-09. acc. prob=0.85]\n"
     ]
    },
    {
     "name": "stdout",
     "output_type": "stream",
     "text": [
      "\n",
      "                mean       std    median      5.0%     95.0%     n_eff     r_hat\n",
      "         s      0.49      0.32      0.49      0.17      0.81      1.00 2910923.90\n",
      "  theta[0]     -0.42      1.46     -0.42     -1.88      1.04      1.00 401506.00\n",
      "  theta[1]      1.07      0.56      1.07      0.52      1.63      1.00  93880.33\n",
      "  theta[2]     -0.98      0.13     -0.98     -1.11     -0.84      1.00  27602.96\n",
      "  theta[3]     -0.19      0.37     -0.19     -0.56      0.17      1.00 294985.88\n",
      "\n",
      "Number of divergences: 0\n"
     ]
    }
   ],
   "source": [
    "# inicializacion modelo generativo\n",
    "\n",
    "np.random.seed(1234)\n",
    "\n",
    "t0,t1,t2,t3, N = 0.2, 0.3, 0.2, 0.1, 197\n",
    "#x = [np.random.randn(N), np.random.randn(N), np.random.randn(N)]\n",
    "x = xb.T\n",
    "y = np.exp(t0 + t1*x[0] + t2*x[1] + t3*x[2])\n",
    "x_test = [np.random.randn(N), np.random.randn(N), np.random.randn(N)]\n",
    "# genero 3 semillas\n",
    "\n",
    "\n",
    "# Creamos el objetivo Predictive\n",
    "predictive = numpyro.infer.Predictive(tarea.model, \n",
    "                                      num_samples=2000)\n",
    "\n",
    "# Para muestrear el objeto predictive requiere una semilla aleatoria y las variables de entrada del modelo\n",
    "rng_key = random.PRNGKey(12345)\n",
    "rng_key, rngkey = random.split(rng_key)\n",
    "prior_samples = predictive(rngkey, x_test)\n",
    "prior_samples.keys()\n",
    "\n",
    "\n",
    "# muestras del posterior con MCMC\n",
    "\n",
    "rng_key, rngkey = random.split(rng_key)\n",
    "\n",
    "sampler = numpyro.infer.MCMC(sampler=numpyro.infer.NUTS(tarea.model), \n",
    "                             num_samples=1000, num_warmup=100, thinning=1,\n",
    "                             num_chains=2)\n",
    "\n",
    "sampler.run(rngkey, x, y)\n",
    "\n",
    "\n",
    "\n",
    "sampler.print_summary(prob=0.9)"
   ]
  },
  {
   "cell_type": "code",
   "execution_count": 390,
   "metadata": {},
   "outputs": [
    {
     "name": "stderr",
     "output_type": "stream",
     "text": [
      "/home/marco/anaconda3/envs/info274/lib/python3.10/site-packages/numpyro/infer/mcmc.py:274: UserWarning: There are not enough devices to run parallel chains: expected 2 but got 1. Chains will be drawn sequentially. If you are running MCMC in CPU, consider using `numpyro.set_host_device_count(2)` at the beginning of your program. You can double-check how many devices are available in your system using `jax.local_device_count()`.\n",
      "  warnings.warn(\n",
      "sample: 100%|████████████████████████████████████████| 1100/1100 [00:01<00:00, 712.03it/s, step size nan. acc. prob=nan]\n",
      "sample: 100%|█████████████████████████████████| 1100/1100 [00:00<00:00, 8372.73it/s, step size 4.62e-03. acc. prob=0.14]"
     ]
    },
    {
     "name": "stdout",
     "output_type": "stream",
     "text": [
      "\n",
      "                mean       std    median      5.0%     95.0%     n_eff     r_hat\n",
      "         s      0.65      0.11      0.65      0.54      0.76      1.00    168.42\n",
      "  theta[0]     -1.26      0.89     -1.22     -2.18     -0.38      1.00     60.65\n",
      "  theta[1]      0.51      0.78      0.50     -0.27      1.32      1.00     91.59\n",
      "  theta[2]     -0.93      0.80     -0.93     -1.73     -0.12      1.00    169.91\n",
      "  theta[3]     -0.13      0.17     -0.14     -0.30      0.05      1.00     54.34\n",
      "\n"
     ]
    },
    {
     "name": "stderr",
     "output_type": "stream",
     "text": [
      "\n"
     ]
    }
   ],
   "source": [
    "rng_key, rngkey = random.split(rng_key)\n",
    "\n",
    "sampler1 = numpyro.infer.MCMC(sampler=numpyro.infer.BarkerMH(tarea.model), \n",
    "                             num_samples=1000, num_warmup=100, thinning=1,\n",
    "                             num_chains=2)\n",
    "\n",
    "sampler1.run(rngkey, x, y)\n",
    "\n",
    "\n",
    "\n",
    "sampler1.print_summary(prob=0.9)"
   ]
  },
  {
   "cell_type": "code",
   "execution_count": 382,
   "metadata": {},
   "outputs": [
    {
     "name": "stdout",
     "output_type": "stream",
     "text": [
      "0 [           inf 7.59614203e-24 8.80854708e-18 3.04545640e-16\n",
      " 4.65717773e-16 5.51669359e-08            inf            inf\n",
      "            inf            inf            inf 1.86478887e+11\n",
      " 9.91681408e+08 2.47273120e+08 5.34230180e+10 1.30289728e+21\n",
      "            inf            inf 6.45775648e+26 1.67881728e+08\n",
      " 9.52633789e+03 1.54175770e+09            inf 1.06848903e-01\n",
      "            inf 5.58261958e+23 3.95375040e+08            inf\n",
      "            inf 2.48505071e-01 9.40816193e+01            inf\n",
      " 3.42860104e+10 1.10593906e+04            inf            inf\n",
      "            inf 1.67667927e-15            inf            inf\n",
      " 4.21349710e-16            inf            inf            inf\n",
      " 1.64858922e-15 5.60598480e+07            inf            inf\n",
      " 4.00139052e-16            inf            inf 1.32209689e+27\n",
      "            inf            inf            inf            inf\n",
      "            inf 5.89689261e-15 4.57256000e+08 3.49863717e-06\n",
      " 3.58492546e+01 2.63509330e-21 1.01162738e+26            inf\n",
      " 2.23145880e-20 3.09662197e-19 3.33803575e+06            inf\n",
      " 8.01873779e+03 1.21490741e+00 5.48183787e+18 1.36987732e+02\n",
      "            inf 6.77947886e-04 1.72059328e-04 2.08376907e-08\n",
      "            inf 1.26753332e-21 2.38026647e-11 1.40612838e-06\n",
      " 1.78738584e-21            inf 2.26066855e+04            inf\n",
      "            inf            inf 1.59415359e-15 1.00305708e-10\n",
      " 6.87832205e-16 2.36143000e+06 1.35123127e-18            inf\n",
      " 3.41496836e+22 3.21177529e-16            inf            inf\n",
      "            inf 6.55451699e+09 9.83668848e+03            inf\n",
      " 2.28783087e-19 4.21041976e-20            inf            inf\n",
      "            inf            inf            inf            inf\n",
      "            inf            inf 3.74545435e+03 3.46955811e+02\n",
      "            inf 7.92312582e-23            inf 6.67655600e-21\n",
      " 8.68029700e+06 1.78732263e-23 6.86483459e-20 3.33946838e+02\n",
      " 1.05452366e+15 1.22312045e+24            inf            inf\n",
      " 1.48946218e+01            inf 1.87762076e+16 2.66609459e+17\n",
      " 7.23408026e+33 3.91803452e-13 1.57412570e-17            inf\n",
      "            inf 6.88186666e-23 3.12295107e-23 1.51140762e+10\n",
      " 2.89083993e-21 7.89392282e-23 3.71375297e-21 3.76169743e-24\n",
      "            inf 5.80500273e-23            inf 1.36595873e-20\n",
      " 5.12418978e-07            inf 2.78049362e-23 3.28996271e-22\n",
      "            inf 2.19563680e+07            inf 8.30412898e-22\n",
      "            inf 4.40160050e-22 1.27070016e-20 3.06439096e-10\n",
      " 4.95299837e-03 2.08980008e-22 2.36940015e-22 1.08463289e-15\n",
      " 5.30073203e+04 1.49464412e-07            inf            inf\n",
      "            inf 7.27221295e-18 6.31071514e-11 2.67086680e+38\n",
      "            inf            inf 1.64780200e+06            inf\n",
      "            inf 1.91202734e-20 3.50576955e-22            inf\n",
      "            inf 3.55130496e+08            inf            inf\n",
      " 4.54894288e-18            inf 1.20218262e-01            inf\n",
      " 1.51370717e-16 3.59544080e+07 3.09662836e-15 1.46685843e-12\n",
      " 1.70685584e+08 7.06623955e-14 1.07827209e-14 7.48273649e-14\n",
      " 1.55226093e-15 1.81373420e+10 9.39306513e+16            inf\n",
      " 5.47663230e-20]\n",
      "1 [0.00000000e+00 2.03054719e-15 3.06399610e-16 3.11764009e-17\n",
      " 2.75447493e-20 1.49050125e-23 0.00000000e+00 0.00000000e+00\n",
      " 0.00000000e+00 0.00000000e+00 0.00000000e+00 1.21075752e-37\n",
      " 2.66986988e-36 1.14043522e-35 2.48046868e-37 0.00000000e+00\n",
      " 0.00000000e+00 0.00000000e+00 0.00000000e+00 4.11525297e-36\n",
      " 9.23572558e-31 5.62649046e-37 0.00000000e+00 3.38457151e-29\n",
      " 0.00000000e+00 0.00000000e+00 0.00000000e+00 0.00000000e+00\n",
      " 0.00000000e+00 3.75230044e-29 6.14399041e-32 0.00000000e+00\n",
      " 1.22862917e-36 6.79071919e-32 0.00000000e+00 0.00000000e+00\n",
      " 0.00000000e+00 6.43493577e-19 0.00000000e+00 0.00000000e+00\n",
      " 1.60766255e-22 0.00000000e+00 0.00000000e+00 0.00000000e+00\n",
      " 2.77982693e-22 0.00000000e+00 0.00000000e+00 0.00000000e+00\n",
      " 9.82397849e-19 0.00000000e+00 0.00000000e+00 0.00000000e+00\n",
      " 0.00000000e+00 0.00000000e+00 0.00000000e+00 0.00000000e+00\n",
      " 0.00000000e+00 9.75842352e-20 0.00000000e+00 8.35422710e-24\n",
      " 1.78941048e-30 9.71524770e-12 0.00000000e+00 0.00000000e+00\n",
      " 2.51935712e-11 8.09270845e-11 0.00000000e+00 0.00000000e+00\n",
      " 3.28016483e-36 1.10442754e-30 0.00000000e+00 4.58652503e-34\n",
      " 0.00000000e+00 4.96420661e-29 1.50710073e-28 5.29354066e-25\n",
      " 0.00000000e+00 1.72778597e-11 8.27789056e-19 1.24313018e-22\n",
      " 3.19342122e-11 0.00000000e+00 0.00000000e+00 0.00000000e+00\n",
      " 0.00000000e+00 0.00000000e+00 8.40315413e-18 4.76325173e-18\n",
      " 1.64532410e-09 8.09312837e-29 6.89247915e-16 0.00000000e+00\n",
      " 0.00000000e+00 5.43870071e-12 0.00000000e+00 0.00000000e+00\n",
      " 0.00000000e+00 9.50698132e-36 3.26112826e-27 0.00000000e+00\n",
      " 2.51246063e-04 1.15553894e-05 0.00000000e+00 0.00000000e+00\n",
      " 0.00000000e+00 0.00000000e+00 0.00000000e+00 0.00000000e+00\n",
      " 0.00000000e+00 0.00000000e+00 3.37603848e-27 1.10986104e-26\n",
      " 0.00000000e+00 1.99143124e-05 0.00000000e+00 1.99786846e-05\n",
      " 6.27672700e-31 1.64954597e-03 2.30203499e-04 2.40804132e-32\n",
      " 5.13641860e-38 0.00000000e+00 0.00000000e+00 0.00000000e+00\n",
      " 2.32276244e-32 0.00000000e+00 0.00000000e+00 0.00000000e+00\n",
      " 0.00000000e+00 6.19815831e-13 4.14657606e-08 0.00000000e+00\n",
      " 0.00000000e+00 4.93367347e-09 3.86713134e-10 0.00000000e+00\n",
      " 1.08874830e-13 1.23145327e-07 1.82171256e-08 7.99594335e-10\n",
      " 0.00000000e+00 4.33192343e-10 0.00000000e+00 4.28132009e-12\n",
      " 4.27518434e-23 0.00000000e+00 1.44243694e-13 1.46702448e-07\n",
      " 0.00000000e+00 0.00000000e+00 0.00000000e+00 3.02903879e-16\n",
      " 0.00000000e+00 2.05060278e-04 1.04129490e-10 5.76501424e-16\n",
      " 4.09243967e-23 1.02588081e-06 6.86157684e-12 1.78866392e-18\n",
      " 1.09277738e-37 1.31380515e-20 0.00000000e+00 0.00000000e+00\n",
      " 0.00000000e+00 5.90840210e-10 2.63765191e-18 0.00000000e+00\n",
      " 0.00000000e+00 0.00000000e+00 4.57954092e-30 0.00000000e+00\n",
      " 0.00000000e+00 3.67351049e-07 5.44035110e-08 0.00000000e+00\n",
      " 0.00000000e+00 0.00000000e+00 0.00000000e+00 0.00000000e+00\n",
      " 1.89103318e-07 0.00000000e+00 4.09132724e-25 0.00000000e+00\n",
      " 1.89061822e-11 3.96454560e-31 2.00163552e-10 2.12453400e-13\n",
      " 2.72000726e-35 6.80792567e-14 2.13451891e-12 1.08138568e-15\n",
      " 1.12527218e-11 1.35353597e-35 0.00000000e+00 0.00000000e+00\n",
      " 3.81682730e-09]\n",
      "2 [0.0000000e+00 1.2258673e-13 9.0306640e-16 3.9344720e-17 2.3100521e-20\n",
      " 9.9415803e-38 0.0000000e+00 0.0000000e+00 0.0000000e+00 0.0000000e+00\n",
      " 0.0000000e+00 0.0000000e+00 0.0000000e+00 0.0000000e+00 0.0000000e+00\n",
      " 0.0000000e+00 0.0000000e+00 0.0000000e+00 0.0000000e+00 0.0000000e+00\n",
      " 0.0000000e+00 0.0000000e+00 0.0000000e+00 0.0000000e+00 0.0000000e+00\n",
      " 0.0000000e+00 0.0000000e+00 0.0000000e+00 0.0000000e+00 0.0000000e+00\n",
      " 0.0000000e+00 0.0000000e+00 0.0000000e+00 0.0000000e+00 0.0000000e+00\n",
      " 0.0000000e+00 0.0000000e+00 4.7578922e-19 0.0000000e+00 0.0000000e+00\n",
      " 8.1285859e-29 0.0000000e+00 0.0000000e+00 0.0000000e+00 1.4507298e-22\n",
      " 0.0000000e+00 0.0000000e+00 0.0000000e+00 1.0005326e-18 0.0000000e+00\n",
      " 0.0000000e+00 0.0000000e+00 0.0000000e+00 0.0000000e+00 0.0000000e+00\n",
      " 0.0000000e+00 0.0000000e+00 5.0849584e-20 0.0000000e+00 2.2696932e-38\n",
      " 0.0000000e+00 2.5220845e-10 0.0000000e+00 0.0000000e+00 4.3598328e-10\n",
      " 8.4977358e-10 0.0000000e+00 0.0000000e+00 0.0000000e+00 0.0000000e+00\n",
      " 0.0000000e+00 0.0000000e+00 0.0000000e+00 0.0000000e+00 0.0000000e+00\n",
      " 1.2668027e-37 0.0000000e+00 5.3694615e-10 1.8202291e-27 4.6239545e-37\n",
      " 9.4941688e-10 0.0000000e+00 0.0000000e+00 0.0000000e+00 0.0000000e+00\n",
      " 0.0000000e+00 7.0567837e-18 2.8525807e-25 3.9244674e-09 0.0000000e+00\n",
      " 3.1250493e-15 0.0000000e+00 0.0000000e+00 2.9802584e-16 0.0000000e+00\n",
      " 0.0000000e+00 0.0000000e+00 0.0000000e+00 0.0000000e+00 0.0000000e+00\n",
      " 5.5442285e-03 3.1638588e-04 0.0000000e+00 0.0000000e+00 0.0000000e+00\n",
      " 0.0000000e+00 0.0000000e+00 0.0000000e+00 0.0000000e+00 0.0000000e+00\n",
      " 0.0000000e+00 0.0000000e+00 0.0000000e+00 2.0889915e-03 0.0000000e+00\n",
      " 8.2571234e-04 0.0000000e+00 2.8916302e-01 6.5157614e-03 0.0000000e+00\n",
      " 0.0000000e+00 0.0000000e+00 0.0000000e+00 0.0000000e+00 0.0000000e+00\n",
      " 0.0000000e+00 0.0000000e+00 0.0000000e+00 0.0000000e+00 5.9708930e-21\n",
      " 2.5324039e-07 0.0000000e+00 0.0000000e+00 3.6558680e-07 3.0134807e-08\n",
      " 0.0000000e+00 2.2603527e-12 1.0261006e-05 6.1967114e-07 1.0046152e-07\n",
      " 0.0000000e+00 2.9787701e-08 0.0000000e+00 7.5783636e-11 1.8728417e-37\n",
      " 0.0000000e+00 8.0471133e-12 9.1290603e-06 0.0000000e+00 0.0000000e+00\n",
      " 0.0000000e+00 6.2556953e-15 0.0000000e+00 1.6680015e-02 2.1633566e-09\n",
      " 2.9318681e-26 0.0000000e+00 7.6712000e-05 2.9084546e-10 2.8728868e-29\n",
      " 0.0000000e+00 3.2912123e-33 0.0000000e+00 0.0000000e+00 0.0000000e+00\n",
      " 3.4986851e-09 1.2640166e-31 0.0000000e+00 0.0000000e+00 0.0000000e+00\n",
      " 0.0000000e+00 0.0000000e+00 0.0000000e+00 1.0150944e-05 9.3840868e-08\n",
      " 0.0000000e+00 0.0000000e+00 0.0000000e+00 0.0000000e+00 0.0000000e+00\n",
      " 1.6060053e-06 0.0000000e+00 0.0000000e+00 0.0000000e+00 5.0599525e-11\n",
      " 0.0000000e+00 3.1628414e-10 6.7412127e-14 0.0000000e+00 1.1400379e-15\n",
      " 2.1113901e-12 5.0442040e-16 1.8037308e-11 0.0000000e+00 0.0000000e+00\n",
      " 0.0000000e+00 6.8708367e-08]\n"
     ]
    }
   ],
   "source": [
    "for i in range(3): # Tres semillas\n",
    "    seeded_model = numpyro.handlers.seed(model, random.PRNGKey(i))\n",
    "    print(i, seeded_model(x))"
   ]
  },
  {
   "cell_type": "code",
   "execution_count": 385,
   "metadata": {},
   "outputs": [
    {
     "name": "stdout",
     "output_type": "stream",
     "text": [
      "Trace Shapes:        \n",
      " Param Sites:        \n",
      "Sample Sites:        \n",
      "   theta dist     | 4\n",
      "        value     | 4\n",
      "       s dist     |  \n",
      "        value     |  \n",
      "  datos plate 197 |  \n",
      "       y dist 197 |  \n",
      "        value 197 |  \n"
     ]
    }
   ],
   "source": [
    "exec_trace = numpyro.handlers.trace(seeded_model).get_trace(x,y)\n",
    "print(numpyro.util.format_shapes(exec_trace))"
   ]
  },
  {
   "cell_type": "code",
   "execution_count": 386,
   "metadata": {},
   "outputs": [
    {
     "name": "stdout",
     "output_type": "stream",
     "text": [
      "OrderedDict([('theta', {'type': 'sample', 'name': 'theta', 'fn': <numpyro.distributions.distribution.Independent object at 0x7fcaa2efb040>, 'args': (), 'kwargs': {'rng_key': array([2613193937,  691811511], dtype=uint32), 'sample_shape': ()}, 'value': DeviceArray([-3.3883095, -4.794694 , -2.2919903, -2.470184 ], dtype=float32), 'scale': None, 'is_observed': False, 'intermediates': [], 'cond_indep_stack': [], 'infer': {}}), ('s', {'type': 'sample', 'name': 's', 'fn': <numpyro.distributions.continuous.HalfCauchy object at 0x7fcaa2efa890>, 'args': (), 'kwargs': {'rng_key': array([2409338849, 2235337890], dtype=uint32), 'sample_shape': ()}, 'value': DeviceArray(4.013031, dtype=float32), 'scale': None, 'is_observed': False, 'intermediates': [], 'cond_indep_stack': [], 'infer': {}}), ('datos', {'type': 'plate', 'fn': <function _subsample_fn at 0x7fcbd5ef2710>, 'name': 'datos', 'args': (197, None), 'kwargs': {'rng_key': None}, 'value': DeviceArray([  0,   1,   2,   3,   4,   5,   6,   7,   8,   9,  10,  11,\n",
      "              12,  13,  14,  15,  16,  17,  18,  19,  20,  21,  22,  23,\n",
      "              24,  25,  26,  27,  28,  29,  30,  31,  32,  33,  34,  35,\n",
      "              36,  37,  38,  39,  40,  41,  42,  43,  44,  45,  46,  47,\n",
      "              48,  49,  50,  51,  52,  53,  54,  55,  56,  57,  58,  59,\n",
      "              60,  61,  62,  63,  64,  65,  66,  67,  68,  69,  70,  71,\n",
      "              72,  73,  74,  75,  76,  77,  78,  79,  80,  81,  82,  83,\n",
      "              84,  85,  86,  87,  88,  89,  90,  91,  92,  93,  94,  95,\n",
      "              96,  97,  98,  99, 100, 101, 102, 103, 104, 105, 106, 107,\n",
      "             108, 109, 110, 111, 112, 113, 114, 115, 116, 117, 118, 119,\n",
      "             120, 121, 122, 123, 124, 125, 126, 127, 128, 129, 130, 131,\n",
      "             132, 133, 134, 135, 136, 137, 138, 139, 140, 141, 142, 143,\n",
      "             144, 145, 146, 147, 148, 149, 150, 151, 152, 153, 154, 155,\n",
      "             156, 157, 158, 159, 160, 161, 162, 163, 164, 165, 166, 167,\n",
      "             168, 169, 170, 171, 172, 173, 174, 175, 176, 177, 178, 179,\n",
      "             180, 181, 182, 183, 184, 185, 186, 187, 188, 189, 190, 191,\n",
      "             192, 193, 194, 195, 196], dtype=int32), 'scale': 1.0, 'cond_indep_stack': []}), ('lambda', {'type': 'deterministic', 'name': 'lambda', 'value': DeviceArray([0.00000000e+00, 0.00000000e+00, 7.12773742e-36,\n",
      "             5.83796757e-35, 4.54234417e-37, 0.00000000e+00,\n",
      "             0.00000000e+00, 0.00000000e+00, 0.00000000e+00,\n",
      "             0.00000000e+00, 0.00000000e+00, 0.00000000e+00,\n",
      "             0.00000000e+00, 0.00000000e+00, 0.00000000e+00,\n",
      "             0.00000000e+00, 0.00000000e+00, 0.00000000e+00,\n",
      "             0.00000000e+00, 0.00000000e+00, 0.00000000e+00,\n",
      "             0.00000000e+00, 0.00000000e+00, 0.00000000e+00,\n",
      "             0.00000000e+00, 0.00000000e+00, 0.00000000e+00,\n",
      "             0.00000000e+00, 0.00000000e+00, 0.00000000e+00,\n",
      "             0.00000000e+00, 0.00000000e+00, 0.00000000e+00,\n",
      "             0.00000000e+00, 0.00000000e+00, 0.00000000e+00,\n",
      "             0.00000000e+00, 1.96426627e-35, 0.00000000e+00,\n",
      "             0.00000000e+00, 0.00000000e+00, 0.00000000e+00,\n",
      "             0.00000000e+00, 0.00000000e+00, 5.52025107e-38,\n",
      "             0.00000000e+00, 0.00000000e+00, 0.00000000e+00,\n",
      "             5.74638089e-36, 0.00000000e+00, 0.00000000e+00,\n",
      "             0.00000000e+00, 0.00000000e+00, 0.00000000e+00,\n",
      "             0.00000000e+00, 0.00000000e+00, 0.00000000e+00,\n",
      "             1.83839998e-35, 0.00000000e+00, 0.00000000e+00,\n",
      "             0.00000000e+00, 2.78979305e-36, 0.00000000e+00,\n",
      "             0.00000000e+00, 5.77338770e-35, 2.39588120e-33,\n",
      "             0.00000000e+00, 0.00000000e+00, 0.00000000e+00,\n",
      "             0.00000000e+00, 0.00000000e+00, 0.00000000e+00,\n",
      "             0.00000000e+00, 0.00000000e+00, 0.00000000e+00,\n",
      "             0.00000000e+00, 0.00000000e+00, 1.95419802e-36,\n",
      "             0.00000000e+00, 0.00000000e+00, 4.50804666e-36,\n",
      "             0.00000000e+00, 0.00000000e+00, 0.00000000e+00,\n",
      "             0.00000000e+00, 0.00000000e+00, 1.29726673e-34,\n",
      "             1.26604496e-36, 9.68953230e-29, 0.00000000e+00,\n",
      "             1.73341167e-36, 0.00000000e+00, 0.00000000e+00,\n",
      "             3.12160833e-36, 0.00000000e+00, 0.00000000e+00,\n",
      "             0.00000000e+00, 0.00000000e+00, 0.00000000e+00,\n",
      "             0.00000000e+00, 1.39560672e-28, 2.18348433e-30,\n",
      "             0.00000000e+00, 0.00000000e+00, 0.00000000e+00,\n",
      "             0.00000000e+00, 0.00000000e+00, 0.00000000e+00,\n",
      "             0.00000000e+00, 0.00000000e+00, 0.00000000e+00,\n",
      "             0.00000000e+00, 0.00000000e+00, 3.72729863e-33,\n",
      "             0.00000000e+00, 4.51096521e-31, 0.00000000e+00,\n",
      "             2.10020271e-32, 3.55515533e-29, 0.00000000e+00,\n",
      "             0.00000000e+00, 0.00000000e+00, 0.00000000e+00,\n",
      "             0.00000000e+00, 0.00000000e+00, 0.00000000e+00,\n",
      "             0.00000000e+00, 0.00000000e+00, 0.00000000e+00,\n",
      "             4.09159870e-37, 1.87156380e-29, 0.00000000e+00,\n",
      "             0.00000000e+00, 6.01737919e-36, 3.73728587e-37,\n",
      "             0.00000000e+00, 1.03424986e-37, 7.94383815e-35,\n",
      "             1.20452245e-33, 6.56617183e-38, 0.00000000e+00,\n",
      "             7.95954298e-37, 0.00000000e+00, 8.89521342e-36,\n",
      "             0.00000000e+00, 0.00000000e+00, 0.00000000e+00,\n",
      "             4.24287798e-34, 0.00000000e+00, 0.00000000e+00,\n",
      "             0.00000000e+00, 0.00000000e+00, 0.00000000e+00,\n",
      "             1.38685317e-31, 9.18146897e-35, 4.95697393e-38,\n",
      "             0.00000000e+00, 1.13002577e-33, 1.58640708e-37,\n",
      "             0.00000000e+00, 0.00000000e+00, 0.00000000e+00,\n",
      "             0.00000000e+00, 0.00000000e+00, 0.00000000e+00,\n",
      "             3.26622602e-31, 0.00000000e+00, 0.00000000e+00,\n",
      "             0.00000000e+00, 0.00000000e+00, 0.00000000e+00,\n",
      "             0.00000000e+00, 0.00000000e+00, 6.86091795e-32,\n",
      "             3.79132227e-36, 0.00000000e+00, 0.00000000e+00,\n",
      "             0.00000000e+00, 0.00000000e+00, 0.00000000e+00,\n",
      "             1.53997629e-29, 0.00000000e+00, 0.00000000e+00,\n",
      "             0.00000000e+00, 6.44664095e-31, 0.00000000e+00,\n",
      "             1.00261367e-28, 4.41984263e-28, 0.00000000e+00,\n",
      "             1.24376483e-31, 1.24790074e-29, 3.27148824e-31,\n",
      "             5.39379551e-30, 0.00000000e+00, 0.00000000e+00,\n",
      "             0.00000000e+00, 6.77935290e-33], dtype=float32)}), ('y', {'type': 'sample', 'name': 'y', 'fn': <numpyro.distributions.discrete.Poisson object at 0x7fcaa3e77a30>, 'args': (), 'kwargs': {'rng_key': None, 'sample_shape': ()}, 'value': array([6.23045918e+05, 9.79358044e+02, 3.21767263e+02, 2.63058226e+02,\n",
      "       3.47693345e+02, 9.20841937e+02, 7.11557916e+04, 1.28806641e+05,\n",
      "       2.75163073e+04, 4.03844828e+04, 1.66649718e+04, 7.15430529e+02,\n",
      "       7.38377565e+02, 7.79366570e+02, 7.71206753e+02, 1.75631194e+03,\n",
      "       1.25855184e+04, 3.49573071e+04, 2.32655358e+03, 1.94727074e+03,\n",
      "       1.12272304e+03, 1.76024151e+03, 9.90778368e+04, 1.09996144e+03,\n",
      "       1.43329793e+05, 8.13209128e+03, 3.74621734e+03, 1.27964850e+04,\n",
      "       9.67955983e+04, 1.34603451e+03, 1.88409862e+03, 3.40968883e+05,\n",
      "       1.72159089e+03, 1.24610856e+03, 2.00986395e+05, 3.89198624e+04,\n",
      "       9.28336629e+04, 2.70451856e+02, 4.43816470e+05, 4.30101881e+04,\n",
      "       1.34789676e+03, 3.19483178e+05, 2.21689204e+05, 4.48096415e+05,\n",
      "       3.83377445e+02, 1.28267228e+03, 2.75420197e+05, 3.89089588e+05,\n",
      "       3.00074177e+02, 3.89580965e+04, 3.49226469e+05, 1.27489297e+04,\n",
      "       2.28912749e+05, 1.84286611e+04, 5.63463025e+04, 1.71237625e+04,\n",
      "       3.48601007e+05, 2.64226952e+02, 1.43464154e+03, 6.61996057e+02,\n",
      "       7.62030286e+02, 4.05485981e+02, 3.82511419e+03, 4.27434096e+04,\n",
      "       3.23461016e+02, 2.44960629e+02, 2.14405505e+03, 2.32255596e+05,\n",
      "       1.51350359e+03, 1.37596544e+03, 2.09733926e+03, 2.27250471e+03,\n",
      "       3.50401000e+04, 9.55368567e+02, 1.02241341e+03, 8.79714040e+02,\n",
      "       4.95081311e+04, 4.20753184e+02, 4.74956015e+02, 6.34193796e+02,\n",
      "       3.97427251e+02, 2.34005021e+05, 3.59019609e+03, 1.00700002e+05,\n",
      "       2.48950759e+05, 2.22599883e+04, 2.42058153e+02, 2.93657523e+02,\n",
      "       1.10491425e+02, 5.72460221e+02, 3.64414224e+02, 1.07146313e+04,\n",
      "       2.77434341e+03, 3.51861770e+02, 1.96069976e+04, 1.68244392e+04,\n",
      "       6.43757894e+04, 1.81016178e+03, 7.76151785e+02, 2.00162896e+04,\n",
      "       1.28585532e+02, 1.70700879e+02, 5.03450560e+04, 1.47937073e+04,\n",
      "       1.18506573e+05, 4.15571273e+04, 3.02862926e+04, 1.47355364e+04,\n",
      "       2.19497972e+04, 2.53836996e+04, 1.11270590e+03, 9.78816991e+02,\n",
      "       2.54338527e+04, 2.85390438e+02, 1.05422382e+04, 1.95065520e+02,\n",
      "       6.36649966e+02, 2.65999785e+02, 1.43134636e+02, 1.76259071e+03,\n",
      "       1.88871768e+03, 3.82313635e+03, 7.50687028e+04, 1.64240191e+04,\n",
      "       2.30526842e+03, 1.09250523e+05, 1.22931369e+03, 2.40992426e+03,\n",
      "       4.24147515e+03, 3.68282306e+02, 1.32190148e+02, 2.66741604e+04,\n",
      "       1.74948670e+04, 4.19204685e+02, 5.02875035e+02, 2.30529701e+03,\n",
      "       4.92051507e+02, 3.58628309e+02, 2.80794827e+02, 5.83665240e+02,\n",
      "       2.17069856e+05, 4.74408327e+02, 2.05609949e+04, 3.65284097e+02,\n",
      "       7.25475353e+02, 6.27123326e+04, 7.23693746e+02, 3.14815357e+02,\n",
      "       5.60024770e+04, 1.80537698e+03, 6.15881832e+04, 7.13033355e+02,\n",
      "       1.93478815e+05, 2.21885987e+02, 3.18536255e+02, 3.75905319e+02,\n",
      "       5.77910620e+02, 2.99970303e+02, 5.06403306e+02, 1.88948805e+03,\n",
      "       1.49927719e+03, 4.71865360e+02, 4.99450260e+04, 2.41947829e+05,\n",
      "       2.57954113e+05, 1.70913708e+02, 9.57536863e+02, 1.32408192e+04,\n",
      "       3.11555195e+04, 3.54693599e+04, 1.17317814e+03, 5.98157450e+04,\n",
      "       2.14418543e+04, 2.13216913e+02, 4.32659243e+02, 4.60487985e+04,\n",
      "       6.99124064e+04, 1.68602843e+03, 1.37688973e+05, 1.91016655e+05,\n",
      "       1.37369737e+02, 3.69388421e+05, 7.14301620e+02, 2.32148771e+05,\n",
      "       1.53718514e+02, 5.75309295e+02, 1.06735472e+02, 8.55426173e+01,\n",
      "       1.02271353e+03, 1.54341796e+02, 1.17565197e+02, 1.39928636e+02,\n",
      "       1.28857482e+02, 7.07151374e+02, 5.75695518e+03, 2.12097022e+05,\n",
      "       2.39097340e+02]), 'scale': None, 'is_observed': True, 'intermediates': [], 'cond_indep_stack': [CondIndepStackFrame(name='datos', dim=-1, size=197)], 'infer': {}})])\n"
     ]
    }
   ],
   "source": [
    "print(exec_trace)"
   ]
  },
  {
   "cell_type": "code",
   "execution_count": 392,
   "metadata": {},
   "outputs": [
    {
     "ename": "AttributeError",
     "evalue": "'MCMC' object has no attribute 'items'",
     "output_type": "error",
     "traceback": [
      "\u001b[0;31m---------------------------------------------------------------------------\u001b[0m",
      "\u001b[0;31mAttributeError\u001b[0m                            Traceback (most recent call last)",
      "\u001b[0;32m/tmp/ipykernel_82/1650970490.py\u001b[0m in \u001b[0;36m<module>\u001b[0;34m\u001b[0m\n\u001b[1;32m      1\u001b[0m \u001b[0;31m# Posterior predictivo, ejemplos y estadísticos\u001b[0m\u001b[0;34m\u001b[0m\u001b[0;34m\u001b[0m\u001b[0m\n\u001b[1;32m      2\u001b[0m \u001b[0mrng_key\u001b[0m\u001b[0;34m,\u001b[0m \u001b[0mrng_key_\u001b[0m \u001b[0;34m=\u001b[0m \u001b[0mrandom\u001b[0m\u001b[0;34m.\u001b[0m\u001b[0msplit\u001b[0m\u001b[0;34m(\u001b[0m\u001b[0mrng_key\u001b[0m\u001b[0;34m)\u001b[0m\u001b[0;34m\u001b[0m\u001b[0;34m\u001b[0m\u001b[0m\n\u001b[0;32m----> 3\u001b[0;31m predictive_samples = tarea.get_predictive_samples(seeded_model, x_test, rng_key_, \n\u001b[0m\u001b[1;32m      4\u001b[0m                                                      mcmc_trace=sampler)\n\u001b[1;32m      5\u001b[0m \u001b[0;34m\u001b[0m\u001b[0m\n",
      "\u001b[0;32m~/proyecto_recu/tarea.py\u001b[0m in \u001b[0;36mget_predictive_samples\u001b[0;34m(partial_model, x_test, rng_key_, mcmc_trace, num_samples)\u001b[0m\n\u001b[1;32m     62\u001b[0m     \"\"\"\n\u001b[1;32m     63\u001b[0m     \u001b[0;32mif\u001b[0m \u001b[0mmcmc_trace\u001b[0m \u001b[0;32mis\u001b[0m \u001b[0;32mnot\u001b[0m \u001b[0;32mNone\u001b[0m\u001b[0;34m:\u001b[0m\u001b[0;34m\u001b[0m\u001b[0;34m\u001b[0m\u001b[0m\n\u001b[0;32m---> 64\u001b[0;31m         predictive = numpyro.infer.Predictive(partial_model,\n\u001b[0m\u001b[1;32m     65\u001b[0m                                               posterior_samples=mcmc_trace)\n\u001b[1;32m     66\u001b[0m     \u001b[0;32melif\u001b[0m \u001b[0mnum_samples\u001b[0m \u001b[0;32mis\u001b[0m \u001b[0;32mnot\u001b[0m \u001b[0;32mNone\u001b[0m\u001b[0;34m:\u001b[0m\u001b[0;34m\u001b[0m\u001b[0;34m\u001b[0m\u001b[0m\n",
      "\u001b[0;32m~/anaconda3/envs/info274/lib/python3.10/site-packages/numpyro/infer/util.py\u001b[0m in \u001b[0;36m__init__\u001b[0;34m(self, model, posterior_samples, guide, params, num_samples, return_sites, infer_discrete, parallel, batch_ndims)\u001b[0m\n\u001b[1;32m    823\u001b[0m \u001b[0;34m\u001b[0m\u001b[0m\n\u001b[1;32m    824\u001b[0m         \u001b[0mprototype_site\u001b[0m \u001b[0;34m=\u001b[0m \u001b[0mbatch_shape\u001b[0m \u001b[0;34m=\u001b[0m \u001b[0mbatch_size\u001b[0m \u001b[0;34m=\u001b[0m \u001b[0;32mNone\u001b[0m\u001b[0;34m\u001b[0m\u001b[0;34m\u001b[0m\u001b[0m\n\u001b[0;32m--> 825\u001b[0;31m         \u001b[0;32mfor\u001b[0m \u001b[0mname\u001b[0m\u001b[0;34m,\u001b[0m \u001b[0msample\u001b[0m \u001b[0;32min\u001b[0m \u001b[0mposterior_samples\u001b[0m\u001b[0;34m.\u001b[0m\u001b[0mitems\u001b[0m\u001b[0;34m(\u001b[0m\u001b[0;34m)\u001b[0m\u001b[0;34m:\u001b[0m\u001b[0;34m\u001b[0m\u001b[0;34m\u001b[0m\u001b[0m\n\u001b[0m\u001b[1;32m    826\u001b[0m             \u001b[0;32mif\u001b[0m \u001b[0mbatch_shape\u001b[0m \u001b[0;32mis\u001b[0m \u001b[0;32mnot\u001b[0m \u001b[0;32mNone\u001b[0m \u001b[0;32mand\u001b[0m \u001b[0msample\u001b[0m\u001b[0;34m.\u001b[0m\u001b[0mshape\u001b[0m\u001b[0;34m[\u001b[0m\u001b[0;34m:\u001b[0m\u001b[0mbatch_ndims\u001b[0m\u001b[0;34m]\u001b[0m \u001b[0;34m!=\u001b[0m \u001b[0mbatch_shape\u001b[0m\u001b[0;34m:\u001b[0m\u001b[0;34m\u001b[0m\u001b[0;34m\u001b[0m\u001b[0m\n\u001b[1;32m    827\u001b[0m                 raise ValueError(\n",
      "\u001b[0;31mAttributeError\u001b[0m: 'MCMC' object has no attribute 'items'"
     ]
    }
   ],
   "source": [
    "# Posterior predictivo, ejemplos y estadísticos\n",
    "rng_key, rng_key_ = random.split(rng_key)\n",
    "predictive_samples = tarea.get_predictive_samples(seeded_model, x_test, rng_key_, \n",
    "                                                     mcmc_trace=sampler)\n",
    "\n",
    "fig, ax = plt.subplots(1, 3, figsize=(12, 3), tight_layout=True)   \n",
    "for i in range(3):\n",
    "    proyecto.plot_predictive_posterior(ax[i], x1, x2, predictive_samples['y'][i], cmap=binary_cmap)\n",
    "    proyecto.plot_data(ax[i], x, y)\n",
    "    \n",
    "fig, ax = plt.subplots(1, 2, figsize=(12, 4), tight_layout=True)\n",
    "proyecto.plot_predictive_posterior(ax[0], x1, x2, proyecto.binary_mode(predictive_samples['y']),\n",
    "                                   title='Moda del posterior predictivo', cmap=binary_cmap)\n",
    "proyecto.plot_data(ax[0], x, y)\n",
    "proyecto.plot_predictive_posterior(ax[1], x1, x2, proyecto.entropy(predictive_samples['y']), vmin=0, vmax=1/2, \n",
    "                                   title='Entropía del posterior predictivo', cmap=plt.cm.hot)\n",
    "proyecto.plot_data(ax[1], x, y)"
   ]
  },
  {
   "cell_type": "code",
   "execution_count": null,
   "metadata": {},
   "outputs": [],
   "source": []
  }
 ],
 "metadata": {
  "interpreter": {
   "hash": "50456680fccf1c41085e05954d172de063da31b4663dbf91e3dc42a7c568c15e"
  },
  "kernelspec": {
   "display_name": "info274",
   "language": "python",
   "name": "info274"
  },
  "language_info": {
   "codemirror_mode": {
    "name": "ipython",
    "version": 3
   },
   "file_extension": ".py",
   "mimetype": "text/x-python",
   "name": "python",
   "nbconvert_exporter": "python",
   "pygments_lexer": "ipython3",
   "version": "3.10.0"
  },
  "toc": {
   "base_numbering": 1,
   "nav_menu": {},
   "number_sections": true,
   "sideBar": true,
   "skip_h1_title": false,
   "title_cell": "Table of Contents",
   "title_sidebar": "Contents",
   "toc_cell": false,
   "toc_position": {},
   "toc_section_display": true,
   "toc_window_display": false
  }
 },
 "nbformat": 4,
 "nbformat_minor": 4
}
